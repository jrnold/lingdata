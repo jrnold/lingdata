{
 "cells": [
  {
   "cell_type": "code",
   "execution_count": 65,
   "metadata": {},
   "outputs": [],
   "source": [
    "import newick\n",
    "import yaml\n",
    "import requests\n",
    "import geopy\n",
    "\n",
    "INPUTS = {'tree-glottolog': 'glottolog-tree.json', 'info': 'info.yml'}\n",
    "\n",
    "with open(INPUTS['info'], 'r') as f:\n",
    "    info = yaml.load(f)"
   ]
  },
  {
   "cell_type": "code",
   "execution_count": 66,
   "metadata": {},
   "outputs": [],
   "source": [
    "import json\n",
    "\n",
    "with open(INPUTS['tree-glottolog'], 'r') as f:\n",
    "    tree_glottolog = json.load(f)"
   ]
  },
  {
   "cell_type": "code",
   "execution_count": 67,
   "metadata": {},
   "outputs": [],
   "source": [
    "import zipfile\n",
    "import io\n",
    "import pandas as pd\n",
    "import csv\n",
    "\n",
    "r = requests.get(info['languoids_csv'])\n",
    "z = zipfile.ZipFile(io.BytesIO(r.content), 'r')\n"
   ]
  },
  {
   "cell_type": "code",
   "execution_count": 4,
   "metadata": {},
   "outputs": [],
   "source": [
    "with io.TextIOWrapper(z.open('languoid.csv', 'r')) as f:\n",
    "    languoids = pd.read_csv(f)\n",
    "languoids = languoids.loc[:, ('id', 'hid', 'macroarea', 'latitude', 'longitude', 'level', 'status', 'bookkeeping')]\n",
    "languoids.rename(index=str, columns={\"id\": \"glottocode\", \"hid\": \"iso_639_3\"}, inplace=True)\n",
    "languoids.set_index('glottocode', inplace=True)"
   ]
  },
  {
   "cell_type": "markdown",
   "metadata": {},
   "source": [
    "If indexes are used, then I don't need a separate lookup data-structure"
   ]
  },
  {
   "cell_type": "code",
   "execution_count": 5,
   "metadata": {},
   "outputs": [],
   "source": [
    "lang_geo = pd.read_csv(info['lang_geo'], index_col=\"glottocode\")"
   ]
  },
  {
   "cell_type": "code",
   "execution_count": 6,
   "metadata": {},
   "outputs": [],
   "source": [
    "resourcemap = requests.get(info['resourcemap']).json()"
   ]
  },
  {
   "cell_type": "code",
   "execution_count": 7,
   "metadata": {},
   "outputs": [],
   "source": [
    "import re\n",
    "def is_wals_lang_id(x):\n",
    "    return x['type'] == \"wals\" and re.match(\"[a-z]{2,3}$\", x['identifier'])\n",
    " \n",
    "def is_iso_lang_id(x):\n",
    "    return x['type'] == \"iso639-3\" and re.match(\"[a-z]{3}$\", x['identifier'])\n",
    "    \n",
    "glotto2wals = {}\n",
    "glotto2iso = {}\n",
    "for x in resourcemap['resources']:\n",
    "    for id_ in x['identifiers']:\n",
    "        if is_iso_lang_id(id_):\n",
    "            glotto2iso[x[\"id\"]] = id_['identifier']\n",
    "        elif is_wals_lang_id(id_):\n",
    "            glotto2wals[x[\"id\"]] = id_[\"identifier\"]\n",
    "            \n",
    "# Latitude Lookup\n",
    "latitude_lookup = languoids['latitude'].dropna().to_dict()\n",
    "longitude_lookup = languoids['longitude'].dropna().to_dict()"
   ]
  },
  {
   "cell_type": "markdown",
   "metadata": {},
   "source": [
    "Add all languoids to the data"
   ]
  },
  {
   "cell_type": "code",
   "execution_count": 37,
   "metadata": {},
   "outputs": [],
   "source": [
    "newdata = dict((x['glottocode'], x) for x in languoids.reset_index().to_dict('records'))\n",
    "for k, v in newdata.items():\n",
    "    for j in ('longitude', 'latitude'):\n",
    "        if pd.isnull(v[j]):\n",
    "            v[j] = None\n",
    "    for j in ('macroarea', 'iso_639_3'):\n",
    "        if pd.isnull(v[j]):\n",
    "            v[j] = set()\n",
    "        else:\n",
    "            v[j] = set((v[j],))\n",
    "    try:\n",
    "        v['wals_codes'] = {glotto2wals[k]}\n",
    "    except KeyError:\n",
    "        v['wals_codes'] = set()"
   ]
  },
  {
   "cell_type": "code",
   "execution_count": 45,
   "metadata": {},
   "outputs": [],
   "source": [
    "import functools\n",
    "from itertools import chain\n",
    "import numpy as np\n",
    "\n",
    "def walk_tree(x, depth=1, ancestors=[], family=None):\n",
    "    glottocode = x[\"glottocode\"]\n",
    "    data = newdata[glottocode]\n",
    "    if depth == 1:\n",
    "        data['family'] = glottocode\n",
    "    else:\n",
    "        data['family'] = family\n",
    "    f = functools.partial(walk_tree, depth=depth + 1,\n",
    "                          family=data['family'], ancestors = ancestors + [glottocode])\n",
    "    children_data = [f(child) for child in x[\"children\"]]\n",
    "    data['descendants'] = set()\n",
    "    for c in children_data:\n",
    "        data['descendants'].update(c['glottocodes'])\n",
    "        data['wals_codes'].update(c['wals_codes'])\n",
    "        data['iso_639_3'].update(c['iso_639_3'])\n",
    "        data['macroarea'].update(c['macroarea'])\n",
    "        \n",
    "    # this isn't the right way to average over geographic points. Need to find the\n",
    "    # python equivalent of geosphere\n",
    "    # This is problematic and doesn't handle the 180 question\n",
    "    if not data['latitude']:\n",
    "        child_lat = [c['latitude'] for c in children_data \n",
    "                     if c['latitude'] and not pd.isnull(c['latitude'])]\n",
    "        data['latitude'] = np.mean(child_lat) if len(child_lat) else None\n",
    "    if not data['longitude']:\n",
    "        child_long = [c['longitude'] for c in children_data \n",
    "                      if c['longitude'] and not pd.isnull(c['longitude'])]\n",
    "        data['longitude'] = np.mean(child_long) if len(child_long) else None\n",
    "    if len(children_data):\n",
    "        subtree_depth = max(c['subtree_depth'] for  c in children_data) + 1\n",
    "    else:\n",
    "        subtree_depth = 0\n",
    "    \n",
    "    #geo_lookup[[glottocode]]\n",
    "    data.update({\n",
    "        'parent': ancestors[-1] if len(ancestors) else None,\n",
    "        'children': [child['glottocode'] for child in x[\"children\"]],\n",
    "        'ancestors': ancestors,\n",
    "        'depth': depth,\n",
    "        'subtree_depth': subtree_depth,\n",
    "        'family': family\n",
    "    })\n",
    "\n",
    "    return {\n",
    "        'glottocodes': set([glottocode] + list(data['descendants'])),\n",
    "        'iso_639_3': data['iso_639_3'],\n",
    "        'wals_codes': data['wals_codes'],\n",
    "        'macroarea': data['macroarea'],\n",
    "        'latitude': data['latitude'],\n",
    "        'longitude': data['longitude'],\n",
    "        'subtree_depth': subtree_depth,\n",
    "        'family': data['family']\n",
    "    }\n",
    "\n",
    "foo = [walk_tree(subtree) for subtree in tree_glottolog]\n",
    "\n",
    "def topdown_fill(x):\n",
    "    data = newdata[x['glottocode']]\n",
    "    if data['parent']:\n",
    "        parent = newdata[data['parent']]\n",
    "        for i in ('wals_codes', 'iso_639_3', 'macroarea'):\n",
    "            if not len(data[i]):\n",
    "                data[i].update(parent[i])\n",
    "        for i in ('longitude', 'latitude'):\n",
    "            if not data[i]:\n",
    "                data[i] = parent[i]\n",
    "    for child in x['children']:\n",
    "        topdown_fill(child)\n",
    "    \n",
    "foo = [topdown_fill(subtree) for subtree in tree_glottolog]\n"
   ]
  },
  {
   "cell_type": "code",
   "execution_count": 46,
   "metadata": {},
   "outputs": [
    {
     "data": {
      "text/plain": [
       "[('aala1237',\n",
       "  {'ancestors': ['aust1307',\n",
       "    'nucl1752',\n",
       "    'mala1545',\n",
       "    'cent2237',\n",
       "    'east2712',\n",
       "    'ocea1241',\n",
       "    'west2818',\n",
       "    'meso1253',\n",
       "    'newi1242',\n",
       "    'stge1234',\n",
       "    'kand1307',\n",
       "    'ramo1244'],\n",
       "   'bookkeeping': False,\n",
       "   'children': [],\n",
       "   'depth': 13,\n",
       "   'descendants': set(),\n",
       "   'family': 'aust1307',\n",
       "   'glottocode': 'aala1237',\n",
       "   'iso_639_3': {'rai'},\n",
       "   'latitude': -4.1730599999999995,\n",
       "   'level': 'dialect',\n",
       "   'longitude': 152.451,\n",
       "   'macroarea': set(),\n",
       "   'parent': 'ramo1244',\n",
       "   'status': 'safe',\n",
       "   'subtree_depth': 0,\n",
       "   'wals_codes': {'bnn',\n",
       "    'ckh',\n",
       "    'hal',\n",
       "    'hoa',\n",
       "    'kkt',\n",
       "    'moa',\n",
       "    'neh',\n",
       "    'ptp',\n",
       "    'rov',\n",
       "    'sir',\n",
       "    'sis',\n",
       "    'sur',\n",
       "    'taf',\n",
       "    'teo',\n",
       "    'tga',\n",
       "    'tla'}}),\n",
       " ('aant1238',\n",
       "  {'ancestors': ['nucl1709', 'kain1273', 'kain1274', 'tair1260', 'nort2920'],\n",
       "   'bookkeeping': False,\n",
       "   'children': [],\n",
       "   'depth': 6,\n",
       "   'descendants': set(),\n",
       "   'family': 'nucl1709',\n",
       "   'glottocode': 'aant1238',\n",
       "   'iso_639_3': {'tbg'},\n",
       "   'latitude': -6.515630000000001,\n",
       "   'level': 'dialect',\n",
       "   'longitude': 145.959,\n",
       "   'macroarea': set(),\n",
       "   'parent': 'nort2920',\n",
       "   'status': 'safe',\n",
       "   'subtree_depth': 0,\n",
       "   'wals_codes': {'trr'}}),\n",
       " ('aari1238',\n",
       "  {'ancestors': ['sout2845', 'ahkk1235'],\n",
       "   'bookkeeping': False,\n",
       "   'children': ['aari1239', 'gayi1237'],\n",
       "   'depth': 3,\n",
       "   'descendants': {'aari1239', 'gayi1237'},\n",
       "   'family': 'sout2845',\n",
       "   'glottocode': 'aari1238',\n",
       "   'iso_639_3': {'aiw', 'aiz', 'gyl'},\n",
       "   'latitude': 6.0503400000000003,\n",
       "   'level': 'family',\n",
       "   'longitude': 36.622104999999998,\n",
       "   'macroarea': set(),\n",
       "   'parent': 'ahkk1235',\n",
       "   'status': 'safe',\n",
       "   'subtree_depth': 1,\n",
       "   'wals_codes': {'aar'}}),\n",
       " ('aari1239',\n",
       "  {'ancestors': ['sout2845', 'ahkk1235', 'aari1238'],\n",
       "   'bookkeeping': False,\n",
       "   'children': [],\n",
       "   'depth': 4,\n",
       "   'descendants': set(),\n",
       "   'family': 'sout2845',\n",
       "   'glottocode': 'aari1239',\n",
       "   'iso_639_3': {'aiw'},\n",
       "   'latitude': 5.95034,\n",
       "   'level': 'language',\n",
       "   'longitude': 36.5721,\n",
       "   'macroarea': set(),\n",
       "   'parent': 'aari1238',\n",
       "   'status': 'safe',\n",
       "   'subtree_depth': 0,\n",
       "   'wals_codes': {'aar'}}),\n",
       " ('aari1240',\n",
       "  {'bookkeeping': True,\n",
       "   'glottocode': 'aari1240',\n",
       "   'iso_639_3': {'aay'},\n",
       "   'latitude': None,\n",
       "   'level': 'language',\n",
       "   'longitude': None,\n",
       "   'macroarea': set(),\n",
       "   'status': 'safe',\n",
       "   'wals_codes': set()})]"
      ]
     },
     "execution_count": 46,
     "metadata": {},
     "output_type": "execute_result"
    }
   ],
   "source": [
    "list(newdata.items())[:5]"
   ]
  },
  {
   "cell_type": "code",
   "execution_count": 49,
   "metadata": {},
   "outputs": [
    {
     "data": {
      "text/plain": [
       "{'bookkeeping': True,\n",
       " 'glottocode': 'aari1240',\n",
       " 'iso_639_3': {'aay'},\n",
       " 'latitude': None,\n",
       " 'level': 'language',\n",
       " 'longitude': None,\n",
       " 'macroarea': set(),\n",
       " 'status': 'safe',\n",
       " 'wals_codes': set()}"
      ]
     },
     "execution_count": 49,
     "metadata": {},
     "output_type": "execute_result"
    }
   ],
   "source": [
    "lang2"
   ]
  },
  {
   "cell_type": "code",
   "execution_count": 69,
   "metadata": {},
   "outputs": [],
   "source": [
    "import itertools\n",
    "from geopy.distance import vincenty\n",
    "\n",
    "language_dists = []\n",
    "langsdata = [x for x in newdata.values() if x['level'] in (\"language\", \"dialect\") and \"family\" in x]\n",
    "for lang1, lang2 in itertools.product(langsdata, langsdata):\n",
    "    if (lang1[\"glottocode\"] != lang2[\"glottocode\"] and \n",
    "            lang1[\"family\"] == lang2[\"family\"]):\n",
    "        shared = len(set(lang1['ancestors']) & set(lang2['ancestors']))\n",
    "        geo = vincenty((lang1['latitude'], lang2['longitude']), (lang2['latitude'], lang2['longitude']))\n",
    "        language_dists.append({'glottocode_from': lang1[\"glottocode\"],\n",
    "                               'glottocode_to': lang2[\"glottocode\"],\n",
    "                               'shared': shared,\n",
    "                               'geo': geo\n",
    "                              })\n",
    "                               \n",
    "        \n",
    "        "
   ]
  },
  {
   "cell_type": "code",
   "execution_count": 62,
   "metadata": {},
   "outputs": [
    {
     "data": {
      "text/plain": [
       "4715884"
      ]
     },
     "execution_count": 62,
     "metadata": {},
     "output_type": "execute_result"
    }
   ],
   "source": [
    "len(language_dists)"
   ]
  },
  {
   "cell_type": "code",
   "execution_count": null,
   "metadata": {},
   "outputs": [],
   "source": [
    "len(newdata)"
   ]
  }
 ],
 "metadata": {
  "kernelspec": {
   "display_name": "Python 3",
   "language": "python",
   "name": "python3"
  },
  "language_info": {
   "codemirror_mode": {
    "name": "ipython",
    "version": 3
   },
   "file_extension": ".py",
   "mimetype": "text/x-python",
   "name": "python",
   "nbconvert_exporter": "python",
   "pygments_lexer": "ipython3",
   "version": "3.6.2"
  }
 },
 "nbformat": 4,
 "nbformat_minor": 2
}
